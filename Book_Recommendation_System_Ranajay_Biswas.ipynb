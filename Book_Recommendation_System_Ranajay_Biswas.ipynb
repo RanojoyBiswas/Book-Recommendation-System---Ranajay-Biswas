{
  "nbformat": 4,
  "nbformat_minor": 0,
  "metadata": {
    "colab": {
      "provenance": [],
      "authorship_tag": "ABX9TyNcoRraVhlR5aNcCEcTg0Ps",
      "include_colab_link": true
    },
    "kernelspec": {
      "name": "python3",
      "display_name": "Python 3"
    },
    "language_info": {
      "name": "python"
    }
  },
  "cells": [
    {
      "cell_type": "markdown",
      "metadata": {
        "id": "view-in-github",
        "colab_type": "text"
      },
      "source": [
        "<a href=\"https://colab.research.google.com/github/RanojoyBiswas/Book-Recommendation-System---Ranajay-Biswas/blob/main/Book_Recommendation_System_Ranajay_Biswas.ipynb\" target=\"_parent\"><img src=\"https://colab.research.google.com/assets/colab-badge.svg\" alt=\"Open In Colab\"/></a>"
      ]
    },
    {
      "cell_type": "markdown",
      "source": [
        "# **Project**    - Book Recommendation System\n",
        "\n"
      ],
      "metadata": {
        "id": "vncDsAP0Gaoa"
      }
    },
    {
      "cell_type": "markdown",
      "source": [
        "### **Contributor :** Ranajay Biswas\n",
        "\n",
        "### **Github Link :**\n",
        "\n",
        "### **Project Type**    - Unsupervised"
      ],
      "metadata": {
        "id": "sBU1F4dG5Vgb"
      }
    },
    {
      "cell_type": "markdown",
      "source": [
        "## **Project Summary -**"
      ],
      "metadata": {
        "id": "FJNUwmbgGyua"
      }
    },
    {
      "cell_type": "markdown",
      "source": [
        "A recommendation system broadly recommends items to the user best suited to their tastes and traits. It uses the user's previous data and other user's data to give new recommendations.\n",
        "\n",
        "Book Recommendation systems are popular recommendations system as most people have a very limited time that they spend on trying out and reading new books. So, when they visit an online bookstore or just simply search on the internet about some book, it becomes important to utilize this opportunity to make recommendations that are similar to what they would like.\n",
        "\n",
        "Also it is important to consider books that are worth reading, meaning books that are popular for being good among other readers.\n",
        "\n",
        "So, in this project, we first perform EDA (exploratory data analysis) to find popular books, credible users, their locations etc. Then we transform the datasets, different features in the pre-processing step.\n",
        "\n",
        "As we mentioned, it is best to recommend books considering all the factors like ratings, number of ratings and the writer of the book, book's description etc.\n",
        "for that we need to take different approaches like Content based and Collaborative filtering.\n",
        "\n",
        "Content based filtering would take different features like the book title, author's name, description and find similar books whereas, Collaborative filtering will use the user-interaction metrics to recommend. So, collaborative filtering will recommend based on user ratings.\n",
        "\n",
        "To make intelligent recommendation system, we need to consider books that are popular among the users as well. So, we declared a threshold for number of ratings that we will be considered for recommending any book."
      ],
      "metadata": {
        "id": "F6v_1wHtG2nS"
      }
    },
    {
      "cell_type": "markdown",
      "metadata": {
        "id": "LGcl5Bv9ed6u"
      },
      "source": [
        "## **Problem Statement**"
      ]
    },
    {
      "cell_type": "markdown",
      "metadata": {
        "id": "8M5kyFaVjzXk"
      },
      "source": [
        "Project Description\n",
        "Business Context\n",
        "During the last few decades, with the rise of Youtube, Amazon, Netflix, and many other such web services, recommender systems have taken more and more place in our lives. From e-commerce (suggest to buyers articles that could interest them) to online advertisement (suggest to users the right contents, matching their preferences), recommender systems are today unavoidable in our daily online journeys.\n",
        "\n",
        "In a very general way, recommender systems are algorithms aimed at suggesting relevant.\n",
        "\n",
        "items to users (items being movies to watch, text to read, products to buy, or anything else depending on industries). Recommender systems are really critical in some industries as they can generate a huge amount of income when they are efficient or also be a way to stand out significantly from competitors. The main objective is to create a book recommendation system for users.\n"
      ]
    },
    {
      "cell_type": "markdown",
      "source": [
        "## **Data Description & Attribute Information :**"
      ],
      "metadata": {
        "id": "rG-tElX0CMA_"
      }
    },
    {
      "cell_type": "markdown",
      "metadata": {
        "id": "AzGDqdC4fZ-b"
      },
      "source": [
        "\n",
        "The Book-Crossing dataset comprises 3 files.\n",
        "\n",
        "**Users**:\n",
        "Contains the users. Note that user IDs (User-ID) have been anonymized and map to integers. Demographic data is provided (Location, Age) if available. Otherwise, these fields contain NULL values.\n",
        "\n",
        "**Books**:\n",
        "Books are identified by their respective ISBN. Invalid ISBNs have already been removed from the dataset. Moreover, some content-based information is given (Book-Title, Book-Author, Year-Of-Publication, Publisher), obtained from Amazon Web Services. Note that in the case of several authors, only the first is provided. URLs linking to cover images are also given, appearing in three different flavours (Image-URL-S, Image-URL-M, Image-URL-L), i.e., small, medium, large. These URLs point to the Amazon website.\n",
        "\n",
        "**Ratings**:\n",
        "Contains the book rating information. Ratings (Book-Rating) are either explicit, expressed on a scale from 1-10 (higher values denoting higher appreciation), or implicit, expressed by O."
      ]
    },
    {
      "cell_type": "markdown",
      "source": [
        "## **Approach:**"
      ],
      "metadata": {
        "id": "E4YGZnI8cEkR"
      }
    },
    {
      "cell_type": "markdown",
      "source": [
        "This project is heavily dependent upon analyzing the data and finding the most important Features that will help us to make better recommendations. We will need to pre-process the data well before using it to calculate the similarities between different books.\n",
        "\n",
        "Our approach to solve this problem is going to be - \n",
        "\n",
        "1. Understanding the dataset, different rows and columns.\n",
        "\n",
        "2. During the EDA, we will try to find popular books and authors, where most of our readers come from. By calculating the number of votes and average ratings, we will find popular books in the data. Statistical methods and Visualizations are going to be very helpful in this EDA process.\n",
        "\n",
        "3. In the pre-processing step, we shall filter the most important features, make necessary transformations, create or omit features as needed. Depending on the features we choose, we will find best approaches for text pre-processing.\n",
        "\n",
        "4. There is a choice to be made when it comes which recommendation system to use, as the data have both user-interaction related features and also content-related features. So, we shall try both recommender techniques and see how it goes.\n",
        "\n",
        "5. Then we shall conclude the project with an overview and discussion about the observations that we make, about the performance of our models and how this project can prove to be useful from a business standpoint."
      ],
      "metadata": {
        "id": "boQyHN9iaGQk"
      }
    },
    {
      "cell_type": "code",
      "source": [],
      "metadata": {
        "id": "jDNXjI99gHrE"
      },
      "execution_count": null,
      "outputs": []
    }
  ]
}